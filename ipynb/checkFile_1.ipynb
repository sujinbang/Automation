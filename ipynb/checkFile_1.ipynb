{
 "cells": [
  {
   "cell_type": "markdown",
   "metadata": {},
   "source": [
    "## 압축 파일 내 빈파일 존재하는지"
   ]
  },
  {
   "cell_type": "code",
   "execution_count": 5,
   "metadata": {},
   "outputs": [],
   "source": [
    "import os\n",
    "import zipfile\n",
    "from zipfile import ZipFile"
   ]
  },
  {
   "cell_type": "code",
   "execution_count": 7,
   "metadata": {},
   "outputs": [
    {
     "name": "stdout",
     "output_type": "stream",
     "text": [
      "['NEG-01-0050-2024012301-C-RSC.zip', 'NEG-01-0050-2024012301-F-RSC.zip', 'NEG-01-0050-2024012302-C-RSC.zip', 'NEG-01-0050-2024012302-F-RSC.zip', 'NEG-01-0050-2024012303-C-RSC.zip', 'NEG-01-0050-2024012303-F-RSC.zip', 'NEG-01-0050-2024012304-C-RSC.zip', 'NEG-01-0050-2024012305-C-RSC.zip']\n"
     ]
    }
   ],
   "source": [
    "zipfiles = [ file for file in os.listdir(r'Z:\\999_sjbang\\운영\\test\\GME\\Resource') if file.endswith('zip') ]\n",
    "print(zipfiles)"
   ]
  },
  {
   "cell_type": "code",
   "execution_count": 9,
   "metadata": {},
   "outputs": [
    {
     "ename": "FileNotFoundError",
     "evalue": "[Errno 2] No such file or directory: 'NEG-01-0050-2024012301-C-RSC.zip'",
     "output_type": "error",
     "traceback": [
      "\u001b[1;31m---------------------------------------------------------------------------\u001b[0m",
      "\u001b[1;31mFileNotFoundError\u001b[0m                         Traceback (most recent call last)",
      "\u001b[1;32mz:\\999_sjbang\\운영\\CheckFile_1.ipynb Cell 4\u001b[0m line \u001b[0;36m1\n\u001b[1;32m----> <a href='vscode-notebook-cell:/z%3A/999_sjbang/%EC%9A%B4%EC%98%81/CheckFile_1.ipynb#W4sZmlsZQ%3D%3D?line=0'>1</a>\u001b[0m \u001b[39mwith\u001b[39;00m ZipFile(\u001b[39m'\u001b[39m\u001b[39mNEG-01-0050-2024012301-C-RSC.zip\u001b[39m\u001b[39m'\u001b[39m, \u001b[39m'\u001b[39m\u001b[39mr\u001b[39m\u001b[39m'\u001b[39m) \u001b[39mas\u001b[39;00m zipObj:\n\u001b[0;32m      <a href='vscode-notebook-cell:/z%3A/999_sjbang/%EC%9A%B4%EC%98%81/CheckFile_1.ipynb#W4sZmlsZQ%3D%3D?line=1'>2</a>\u001b[0m     listOfFileNames \u001b[39m=\u001b[39m zipObj\u001b[39m.\u001b[39mnamelist(\u001b[39mr\u001b[39m\u001b[39m'\u001b[39m\u001b[39mZ:\u001b[39m\u001b[39m\\\u001b[39m\u001b[39m999_sjbang\u001b[39m\u001b[39m\\\u001b[39m\u001b[39m운영\u001b[39m\u001b[39m\\\u001b[39m\u001b[39mtest\u001b[39m\u001b[39m\\\u001b[39m\u001b[39mGME\u001b[39m\u001b[39m\\\u001b[39m\u001b[39mResource\u001b[39m\u001b[39m'\u001b[39m)\n\u001b[0;32m      <a href='vscode-notebook-cell:/z%3A/999_sjbang/%EC%9A%B4%EC%98%81/CheckFile_1.ipynb#W4sZmlsZQ%3D%3D?line=2'>3</a>\u001b[0m     \u001b[39mfor\u001b[39;00m fileName \u001b[39min\u001b[39;00m listOfFileNames:\n",
      "File \u001b[1;32mc:\\Users\\GIT\\AppData\\Local\\anaconda3\\Lib\\zipfile.py:1284\u001b[0m, in \u001b[0;36mZipFile.__init__\u001b[1;34m(self, file, mode, compression, allowZip64, compresslevel, strict_timestamps, metadata_encoding)\u001b[0m\n\u001b[0;32m   1282\u001b[0m \u001b[39mwhile\u001b[39;00m \u001b[39mTrue\u001b[39;00m:\n\u001b[0;32m   1283\u001b[0m     \u001b[39mtry\u001b[39;00m:\n\u001b[1;32m-> 1284\u001b[0m         \u001b[39mself\u001b[39m\u001b[39m.\u001b[39mfp \u001b[39m=\u001b[39m io\u001b[39m.\u001b[39mopen(file, filemode)\n\u001b[0;32m   1285\u001b[0m     \u001b[39mexcept\u001b[39;00m \u001b[39mOSError\u001b[39;00m:\n\u001b[0;32m   1286\u001b[0m         \u001b[39mif\u001b[39;00m filemode \u001b[39min\u001b[39;00m modeDict:\n",
      "\u001b[1;31mFileNotFoundError\u001b[0m: [Errno 2] No such file or directory: 'NEG-01-0050-2024012301-C-RSC.zip'"
     ]
    }
   ],
   "source": [
    "with ZipFile('NEG-01-0050-2024012301-C-RSC.zip', 'r') as zipObj:\n",
    "    listOfFileNames = zipObj.namelist(r'Z:\\999_sjbang\\운영\\test\\GME\\Resource')\n",
    "    for fileName in listOfFileNames:\n",
    "        print(fileName)"
   ]
  },
  {
   "cell_type": "markdown",
   "metadata": {},
   "source": [
    "## app-폴더, rsc-압축, system-압축, supportapp-폴더"
   ]
  },
  {
   "cell_type": "code",
   "execution_count": null,
   "metadata": {},
   "outputs": [],
   "source": [
    "filename = \"unknown_file.dat\"\n",
    "\n",
    "with open(filename,'rb') as f:\n",
    "    if f.read(3) == b'\\x1f\\x8b\\x08':\n",
    "        print(\"This is gz file\")\n",
    "\n",
    "with open(filename,'rb') as f:\n",
    "    if f.read(3) == b'\\x42\\x5a\\x68':\n",
    "        print(\"This is bz2 file\")\n",
    "\n",
    "with open(filename,'rb') as f:\n",
    "    if f.read(3) == b'\\x50\\x4b\\x03\\x04':\n",
    "        print(\"This is zip file\")"
   ]
  }
 ],
 "metadata": {
  "kernelspec": {
   "display_name": "base",
   "language": "python",
   "name": "python3"
  },
  "language_info": {
   "codemirror_mode": {
    "name": "ipython",
    "version": 3
   },
   "file_extension": ".py",
   "mimetype": "text/x-python",
   "name": "python",
   "nbconvert_exporter": "python",
   "pygments_lexer": "ipython3",
   "version": "3.11.5"
  }
 },
 "nbformat": 4,
 "nbformat_minor": 2
}
